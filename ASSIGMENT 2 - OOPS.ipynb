{
 "cells": [
  {
   "cell_type": "raw",
   "id": "1d5a04d0-51d3-4937-b5f5-425065c6fae6",
   "metadata": {},
   "source": [
    "Q1. What is Abstraction in OOps ? Explain with an example."
   ]
  },
  {
   "cell_type": "raw",
   "id": "e4e4a2ec-4a3c-45c7-9fc0-1ea8416538e6",
   "metadata": {},
   "source": [
    "Abstraction = Abstraction is the process of handling complexity\n",
    "              by the hiding unnecessary infromation from the user."
   ]
  },
  {
   "cell_type": "raw",
   "id": "085b731b-df14-4642-81c0-3493771aa2ce",
   "metadata": {},
   "source": [
    "let us we takeing an example of Abstraction"
   ]
  },
  {
   "cell_type": "code",
   "execution_count": 4,
   "id": "a8558fa5-3764-472e-aafd-0805e1d5fbce",
   "metadata": {},
   "outputs": [],
   "source": [
    "import abc \n",
    "class pwskills:\n",
    "    @abc.abstractclassmethod\n",
    "    \n",
    "    def student_details(self):\n",
    "        pass\n",
    "    @abc.abstractmethod\n",
    "    \n",
    "    def student_assigment(self):\n",
    "        pass\n",
    "    @abc.abstractmethod\n",
    "    \n",
    "    def student_marks(self):\n",
    "        pass\n",
    "    \n",
    "    "
   ]
  },
  {
   "cell_type": "code",
   "execution_count": 5,
   "id": "a36e0af4-59c5-476d-b0b1-504d3998901d",
   "metadata": {},
   "outputs": [],
   "source": [
    "class student_details(pwskills):\n",
    "    \n",
    "    \n",
    "    def student_details(self):\n",
    "        return \"this is the method of taking student details\"\n",
    "    \n",
    "    def student_assigment(self):\n",
    "        return \"this is the method of taking student assigment\"\n",
    "    "
   ]
  },
  {
   "cell_type": "code",
   "execution_count": 6,
   "id": "9a69dc7c-9ee3-4ff2-ac0d-45f0e8b48bf8",
   "metadata": {},
   "outputs": [],
   "source": [
    "class data_science_master(pwskills):\n",
    "    \n",
    "    def student_details(self):\n",
    "        return \"this will give you data science student details\"\n",
    "    \n",
    "    def student_assigment(self):\n",
    "        return \"this will give you student assigment\"\n",
    "        \n",
    "    \n",
    "    "
   ]
  },
  {
   "cell_type": "code",
   "execution_count": 7,
   "id": "1a86c7e3-8c73-4cfd-ac13-02d399434156",
   "metadata": {},
   "outputs": [],
   "source": [
    "shubham = data_science_master()"
   ]
  },
  {
   "cell_type": "code",
   "execution_count": 8,
   "id": "985a381f-cc6c-4eae-b2d6-3c8190cf5197",
   "metadata": {},
   "outputs": [
    {
     "data": {
      "text/plain": [
       "'this will give you student assigment'"
      ]
     },
     "execution_count": 8,
     "metadata": {},
     "output_type": "execute_result"
    }
   ],
   "source": [
    "shubham.student_assigment()"
   ]
  },
  {
   "cell_type": "raw",
   "id": "da87732b-cdba-4646-acf6-11484216b7fe",
   "metadata": {},
   "source": [
    "FROM THE ABOVE EXAMPLE SHOW THAT'S THE USE OF ABSTRCTION"
   ]
  },
  {
   "cell_type": "raw",
   "id": "5ce74b6d-bb1a-4b2d-8ec8-85497032a6ff",
   "metadata": {},
   "source": [
    "Q2. Differentiate between Abstraction and Encapsulation.Explain with an example."
   ]
  },
  {
   "cell_type": "raw",
   "id": "c034095d-cd59-49df-a6d9-4ada510d8958",
   "metadata": {},
   "source": [
    "Abstraction = Abstraction is the method in which we hide a \n",
    "              Data & infromation from the user.\n",
    "              \n",
    "Encapsulation = Encapsulation is the method in which we can Hide the\n",
    "                Data & infromation of a single entity or unit from the\n",
    "                outside."
   ]
  },
  {
   "cell_type": "raw",
   "id": "b12ac25b-08c8-43ed-908c-d757f247067c",
   "metadata": {},
   "source": [
    "let us takeing an example of encapsulation & Abstarction."
   ]
  },
  {
   "cell_type": "code",
   "execution_count": 6,
   "id": "4b4fb97d-5d00-4351-97db-4e0b8624aed9",
   "metadata": {},
   "outputs": [],
   "source": [
    "class bank_account:\n",
    "    \n",
    "    def __init__(self ,balance):\n",
    "        self.__balance = balance\n",
    "        \n",
    "    def deposit(self , amount):\n",
    "        self.__balance = self.__balance + amount\n",
    "    \n",
    "    def withdraw(self, amount):\n",
    "        if self.__balance >= amount:\n",
    "            self.__balance = self.__balance - amount\n",
    "            return True\n",
    "        else :\n",
    "            return False\n",
    "        \n",
    "    def get_balance(self):\n",
    "        return self.__balance\n",
    "            \n",
    "        \n",
    "        \n",
    "        \n",
    "        \n",
    "    "
   ]
  },
  {
   "cell_type": "code",
   "execution_count": 7,
   "id": "257fc21c-ee8c-48fd-98e3-92e6b02c60d4",
   "metadata": {},
   "outputs": [],
   "source": [
    "shubham = bank_account(1000)"
   ]
  },
  {
   "cell_type": "code",
   "execution_count": 8,
   "id": "ee412d1c-6f5d-4906-b9e5-21695bdd1e05",
   "metadata": {},
   "outputs": [
    {
     "data": {
      "text/plain": [
       "1000"
      ]
     },
     "execution_count": 8,
     "metadata": {},
     "output_type": "execute_result"
    }
   ],
   "source": [
    "shubham.get_balance()"
   ]
  },
  {
   "cell_type": "code",
   "execution_count": 9,
   "id": "01d51fc2-fa40-4ad5-a701-969678809850",
   "metadata": {},
   "outputs": [],
   "source": [
    "shubham.deposit(2000)"
   ]
  },
  {
   "cell_type": "code",
   "execution_count": 10,
   "id": "b6459c17-075d-4640-8924-f2d11d89ecbe",
   "metadata": {},
   "outputs": [
    {
     "data": {
      "text/plain": [
       "3000"
      ]
     },
     "execution_count": 10,
     "metadata": {},
     "output_type": "execute_result"
    }
   ],
   "source": [
    "shubham.get_balance()"
   ]
  },
  {
   "cell_type": "raw",
   "id": "c73840cf-4380-44b7-b9d6-8eda619a0bef",
   "metadata": {},
   "source": [
    "FROM THE ABOVE EXAMPLE SHOWS THAT THE ENCAPSULATION IN WHICH SOME\n",
    "PERSONAL DATA IS HIDEEN OF A ENTITY.\n",
    "\n",
    "NOW LET US TAKEKING AN EXAMPLE OF ABSTRACTION."
   ]
  },
  {
   "cell_type": "code",
   "execution_count": 22,
   "id": "af796a2a-5021-414d-b795-0c12eaaad764",
   "metadata": {},
   "outputs": [],
   "source": [
    "import abc\n",
    "class pwskills:\n",
    "    @abc.abstractclassmethod\n",
    "    \n",
    "    def student_details(self):\n",
    "        pass\n",
    "    \n",
    "    @abc.abstractmethod\n",
    "    \n",
    "    def student_assigment(self):\n",
    "        pass\n",
    "    \n",
    "    @abc.abstractmethod\n",
    "    def student_mark(self):\n",
    "        pass\n",
    "    "
   ]
  },
  {
   "cell_type": "code",
   "execution_count": 23,
   "id": "f1a0b547-ddac-4b41-9d46-67a2dd543c60",
   "metadata": {},
   "outputs": [],
   "source": [
    "class student_details(pwskills):\n",
    "    \n",
    "    def student_details(self):\n",
    "        return \"this will you give student information\"\n",
    "    \n",
    "    def student_assigment(self):\n",
    "        return \"this will you give student assigment\""
   ]
  },
  {
   "cell_type": "code",
   "execution_count": 24,
   "id": "ec806699-c0aa-4866-8163-39596c6b185b",
   "metadata": {},
   "outputs": [],
   "source": [
    "class data_management(pwskills):\n",
    "    def student_details_data_management(self):\n",
    "        return \"this will you give details of management\"\n",
    "    def student_assig(self):\n",
    "        return \"this will you give student assig\""
   ]
  },
  {
   "cell_type": "code",
   "execution_count": 25,
   "id": "62b49dd4-5fbd-487d-a437-b6d07844b27a",
   "metadata": {},
   "outputs": [],
   "source": [
    "data_management_obj = data_management()"
   ]
  },
  {
   "cell_type": "code",
   "execution_count": 27,
   "id": "0880c15a-4f95-4894-b44a-8eb400cf6f5b",
   "metadata": {},
   "outputs": [],
   "source": [
    "data_management.student_details()"
   ]
  },
  {
   "cell_type": "code",
   "execution_count": 31,
   "id": "63543926-cce0-44ea-8039-c71c56103eee",
   "metadata": {},
   "outputs": [],
   "source": [
    "ss = data_management()"
   ]
  },
  {
   "cell_type": "code",
   "execution_count": 32,
   "id": "943083b2-da6d-4141-bff5-cd5c6dde894f",
   "metadata": {},
   "outputs": [],
   "source": [
    "ss.student_assigment()"
   ]
  },
  {
   "cell_type": "raw",
   "id": "807280f6-a889-4ac9-b912-4b825cdb1216",
   "metadata": {},
   "source": [
    "SIR I CAN'T UNDERSTAND WHY ABSTRACTION CODE IS NOT RUNNING -_-\n",
    "FROM THE ABOVE EXAMPLE SHOWS THAT THAT THE EXAMPLE OF \n",
    "ABSTRACTION."
   ]
  },
  {
   "cell_type": "raw",
   "id": "46ff0b98-3665-4792-ab78-ddc3ea184a72",
   "metadata": {},
   "source": [
    "Q3. What is abc module in python ? Why is it used ?"
   ]
  },
  {
   "cell_type": "raw",
   "id": "f2799339-bb7e-474b-b4b1-0cdcf24cec3e",
   "metadata": {},
   "source": [
    "THE 'abc MOUDLE IN THE PYTHON LIBRARY PROVIDE THE INFRASTRUCTURE \n",
    "DEFINING THE CUSTOM ABSTRACT BASE CLASS.AN ABSTRACT METHOD CAN BE CALL BY ITS\n",
    "SUBCLASS . \"abc\" MOUDLE IS USED FOR CALL THE ABSTRACT METHOD & PROVIDE THE \n",
    "INFRASTRUCTURE FOR DEFINING THE CUSTOM ABSTRACT BASE CLASSES."
   ]
  },
  {
   "cell_type": "raw",
   "id": "c4b584ea-6122-45d2-b566-cdae9ea4ad34",
   "metadata": {},
   "source": [
    "Q4. How can we achieve data abstraction ?"
   ]
  },
  {
   "cell_type": "raw",
   "id": "0c24d301-3456-4c5d-b037-9301e168bff9",
   "metadata": {},
   "source": [
    "WE CAN ACHIEVE DATA ABSTRACTION WITHE THE HELP OF ABSTRACT CLASS\n",
    "AND INTERFACE . WE CAN ACHIEVE PARTIAL OR COMPLETE ABSTRACTION AS ABSRACTION \n",
    "CLASSES."
   ]
  },
  {
   "cell_type": "raw",
   "id": "9326e51e-c71f-416e-9899-4a6cb3206224",
   "metadata": {},
   "source": [
    "Q5. Can we create an instance of an abstract class ? Explain your answer."
   ]
  },
  {
   "cell_type": "raw",
   "id": "d36a1bee-9578-425d-b72c-0913160daae6",
   "metadata": {},
   "source": [
    "Abstract classes cannot be instantiated, but they can be subclassed. When an abstract class is subclassed, the subclass usually provides implementations for all of the abstract methods in its parent class."
   ]
  }
 ],
 "metadata": {
  "kernelspec": {
   "display_name": "Python 3 (ipykernel)",
   "language": "python",
   "name": "python3"
  },
  "language_info": {
   "codemirror_mode": {
    "name": "ipython",
    "version": 3
   },
   "file_extension": ".py",
   "mimetype": "text/x-python",
   "name": "python",
   "nbconvert_exporter": "python",
   "pygments_lexer": "ipython3",
   "version": "3.10.8"
  }
 },
 "nbformat": 4,
 "nbformat_minor": 5
}
